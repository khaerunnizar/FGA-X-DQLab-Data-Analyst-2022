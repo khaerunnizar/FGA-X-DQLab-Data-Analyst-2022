{
 "cells": [
  {
   "cell_type": "markdown",
   "id": "bb694886",
   "metadata": {},
   "source": [
    "# [Latar Belakang Project](https://academy.dqlab.id/main/package/practice/287)\n",
    "\n",
    "COVID-19 merupakan penyakit yang saat ini telah menjadi pandemi secara global. Kondisi menjadi semakin mengkhawatirkan karena hingga detik ini masih belum ditemukan vaksin yang efektif untuk virus penyebab COVID-19. Pemerintah di berbagai negara umumnya dengan sigap membentuk gugus tugas (task force unit) untuk menangani penyebaran COVID-19 di masyarakat, termasuk pemerintah di Indonesia.\n",
    "\n",
    "Salah satu bentuk aksi yang dilakukan oleh pemerintah adalah dengan mengumpulkan dan menyediakan data pertumbuhan kasus COVID-19 kepada publik. Data pertumbuhan kasus tersebut tidak jarang juga dilengkapi dengan dasbor dan grafik visualisasi pendukung dengan harapan masyarakat dapat memahami informasi dengan lebih mudah. Sebagai contoh adalah portal covid19.go.id besutan Gugus Tugas Penanganan COVID-19 Nasional dan portal PIKOBAR milik pemerintah Provinsi Jawa Barat. Serta banyak portal data COVID-19 lainnya yang disediakan oleh masing-masing pemerintah daerah."
   ]
  },
  {
   "cell_type": "markdown",
   "id": "633b5de9",
   "metadata": {},
   "source": [
    "# Bermain API"
   ]
  },
  {
   "cell_type": "markdown",
   "id": "9d7409e9",
   "metadata": {},
   "source": [
    "## [Mengakses API covid19.go.id](https://academy.dqlab.id/main/livecode/287/532/2653?pr=0)"
   ]
  },
  {
   "cell_type": "code",
   "execution_count": null,
   "id": "2209bdbf",
   "metadata": {},
   "outputs": [],
   "source": [
    "import requests\n",
    "resp = requests.get('https://storage.googleapis.com/dqlab-dataset/update.json', verify=False)"
   ]
  },
  {
   "cell_type": "markdown",
   "id": "0b72bb22",
   "metadata": {},
   "source": [
    "## [Status Code](https://academy.dqlab.id/main/livecode/287/532/2656?pr=0)"
   ]
  },
  {
   "cell_type": "code",
   "execution_count": 1,
   "id": "a1196794",
   "metadata": {},
   "outputs": [
    {
     "name": "stderr",
     "output_type": "stream",
     "text": [
      "C:\\Users\\khaerunnizar\\AppData\\Local\\Programs\\Python\\Python39\\lib\\site-packages\\urllib3\\connectionpool.py:979: InsecureRequestWarning: Unverified HTTPS request is being made to host 'storage.googleapis.com'. Adding certificate verification is strongly advised. See: https://urllib3.readthedocs.io/en/latest/advanced-usage.html#ssl-warnings\n",
      "  warnings.warn(\n"
     ]
    },
    {
     "name": "stdout",
     "output_type": "stream",
     "text": [
      "<Response [200]>\n"
     ]
    }
   ],
   "source": [
    "import requests\n",
    "resp = requests.get('https://storage.googleapis.com/dqlab-dataset/update.json', verify=False)\n",
    "print(resp)"
   ]
  },
  {
   "cell_type": "markdown",
   "id": "2f39abf8",
   "metadata": {},
   "source": [
    "## [Headers API](https://academy.dqlab.id/main/livecode/287/532/2657?pr=0)"
   ]
  },
  {
   "cell_type": "code",
   "execution_count": null,
   "id": "6c780a0e",
   "metadata": {},
   "outputs": [],
   "source": [
    "import requests\n",
    "resp = requests.get('https://storage.googleapis.com/dqlab-dataset/update.json', verify=False)\n",
    "print(resp.headers)"
   ]
  },
  {
   "cell_type": "markdown",
   "id": "88dbdb3d",
   "metadata": {},
   "source": [
    "## [Mengekstrak Isi Respon](https://academy.dqlab.id/main/livecode/287/532/2658?pr=0)"
   ]
  },
  {
   "cell_type": "code",
   "execution_count": null,
   "id": "05dff41f",
   "metadata": {},
   "outputs": [],
   "source": [
    "import requests\n",
    "resp = requests.get('https://storage.googleapis.com/dqlab-dataset/update.json', verify=False)\n",
    "\n",
    "cov_id_raw = resp.json()"
   ]
  },
  {
   "cell_type": "markdown",
   "id": "58784dbb",
   "metadata": {},
   "source": [
    "## [Mengekstrak Isi Respon 2](https://academy.dqlab.id/main/livecode/287/532/2659?pr=0)"
   ]
  },
  {
   "cell_type": "code",
   "execution_count": null,
   "id": "d5824bbc",
   "metadata": {},
   "outputs": [],
   "source": [
    "import requests\n",
    "resp = requests.get('https://storage.googleapis.com/dqlab-dataset/update.json', verify=False)\n",
    "cov_id_raw = resp.json()\n",
    "\n",
    "print('Length of cov_id_raw : %d.' %len(cov_id_raw))\n",
    "print('Komponen cov_id_raw  : %s.' %cov_id_raw.keys())\n",
    "cov_id_update = cov_id_raw['update']"
   ]
  },
  {
   "cell_type": "markdown",
   "id": "dc0f0456",
   "metadata": {},
   "source": [
    "## [Analisa Data](https://academy.dqlab.id/main/livecode/287/532/2660?pr=0)"
   ]
  },
  {
   "cell_type": "code",
   "execution_count": null,
   "id": "c3db425e",
   "metadata": {},
   "outputs": [],
   "source": [
    "import requests\n",
    "resp = requests.get('https://storage.googleapis.com/dqlab-dataset/update.json', verify=False)\n",
    "cov_id_raw = resp.json()\n",
    "cov_id_update = cov_id_raw['update']\n",
    "\n",
    "print('Tanggal pembaharuan data penambahan kasus   :', cov_id_update['penambahan']['tanggal'])\n",
    "print('Jumlah penambahan kasus sembuh   :', cov_id_update['penambahan']['jumlah_sembuh'])\n",
    "print('Jumlah penambahan kasus meninggal   :', cov_id_update['penambahan']['jumlah_meninggal'])\n",
    "print('Jumlah total kasus positif  hingga saat ini  :', cov_id_update['total']['jumlah_positif'])\n",
    "print('Jumlah total kasus meninggal  hingga saat ini   :', cov_id_update['total']['jumlah_meninggal'])"
   ]
  },
  {
   "cell_type": "markdown",
   "id": "b314b152",
   "metadata": {},
   "source": [
    "# COVID-19 Di Sekitar"
   ]
  },
  {
   "cell_type": "markdown",
   "id": "9302baad",
   "metadata": {},
   "source": [
    "## [Apa Kabar Jawa Barat?](https://academy.dqlab.id/main/livecode/287/533/2662?pr=)"
   ]
  },
  {
   "cell_type": "code",
   "execution_count": null,
   "id": "22e9e20c",
   "metadata": {},
   "outputs": [],
   "source": [
    "import requests\n",
    "resp_jabar = requests.get('https://storage.googleapis.com/dqlab-dataset/prov_detail_JAWA_BARAT.json', verify=False)\n",
    "cov_jabar_raw = resp_jabar.json()"
   ]
  },
  {
   "cell_type": "markdown",
   "id": "0ad047e7",
   "metadata": {},
   "source": [
    "## [Memahami Kasus COVID-19 di Jawa Barat](https://academy.dqlab.id/main/livecode/287/533/2663?pr=)"
   ]
  },
  {
   "cell_type": "code",
   "execution_count": null,
   "id": "94f829d1",
   "metadata": {},
   "outputs": [],
   "source": [
    "import requests\n",
    "resp_jabar = requests.get('https://storage.googleapis.com/dqlab-dataset/prov_detail_JAWA_BARAT.json', verify=False)\n",
    "cov_jabar_raw = resp_jabar.json()\n",
    "\n",
    "print('Nama-nama elemen utama:\\n', cov_jabar_raw.keys())\n",
    "print('\\nJumlah total kasus COVID-19 di Jawa Barat                 : %d' %cov_jabar_raw['kasus_total'])\n",
    "print('Persentase kematian akibat COVID-19 di Jawa Barat         : %f.2%%' %cov_jabar_raw['meninggal_persen'])\n",
    "print('Persentase tingkat kesembuhan dari COVID-19 di Jawa Barat : %f.2%%' %cov_jabar_raw['sembuh_persen'])"
   ]
  },
  {
   "cell_type": "markdown",
   "id": "8a9944cf",
   "metadata": {},
   "source": [
    "## [Memperoleh Informasi yang Lebih Lengkap](https://academy.dqlab.id/main/livecode/287/533/2664?pr=)"
   ]
  },
  {
   "cell_type": "code",
   "execution_count": null,
   "id": "1a3d6fb1",
   "metadata": {},
   "outputs": [],
   "source": [
    "import numpy as np\n",
    "import pandas as pd\n",
    "import requests\n",
    "resp_jabar = requests.get('https://storage.googleapis.com/dqlab-dataset/prov_detail_JAWA_BARAT.json', verify=False)\n",
    "cov_jabar_raw = resp_jabar.json()\n",
    "\n",
    "cov_jabar = pd.DataFrame(cov_jabar_raw['list_perkembangan'])\n",
    "print('Info cov_jabar:\\n', cov_jabar.info())\n",
    "print('\\nLima data teratas cov_jabar:\\n', cov_jabar.head())"
   ]
  },
  {
   "cell_type": "markdown",
   "id": "a12658c7",
   "metadata": {},
   "source": [
    "## [Menjinakkan Data](https://academy.dqlab.id/main/livecode/287/533/2665?pr=)"
   ]
  },
  {
   "cell_type": "code",
   "execution_count": null,
   "id": "ae2f9869",
   "metadata": {},
   "outputs": [],
   "source": [
    "import numpy as np\n",
    "import pandas as pd\n",
    "import requests\n",
    "resp_jabar = requests.get('https://storage.googleapis.com/dqlab-dataset/prov_detail_JAWA_BARAT.json', verify=False)\n",
    "cov_jabar_raw = resp_jabar.json()\n",
    "cov_jabar = pd.DataFrame(cov_jabar_raw['list_perkembangan'])\n",
    "cov_jabar_tidy = (cov_jabar.drop(columns=[item for item in cov_jabar.columns \n",
    "                                               if item.startswith('AKUMULASI') \n",
    "                                                  or item.startswith('DIRAWAT')])\n",
    "                           .rename(columns=str.lower)\n",
    "                           .rename(columns={'kasus': 'kasus_baru'})\n",
    "                  )\n",
    "cov_jabar_tidy['tanggal'] = pd.to_datetime(cov_jabar_tidy['tanggal']*1e6, unit='ns')\n",
    "print('Lima data teratas:\\n', cov_jabar_tidy.head())"
   ]
  },
  {
   "cell_type": "markdown",
   "id": "e5c1fb23",
   "metadata": {},
   "source": [
    "## [Menunjukkan Melalui Gambar](https://academy.dqlab.id/main/livecode/287/533/2666?pr=)"
   ]
  },
  {
   "cell_type": "code",
   "execution_count": null,
   "id": "8f06f0c6",
   "metadata": {},
   "outputs": [],
   "source": [
    "import matplotlib.pyplot as plt"
   ]
  },
  {
   "cell_type": "markdown",
   "id": "dc708dd3",
   "metadata": {},
   "source": [
    "## [Menunjukkan Melalui Gambar - 2](https://academy.dqlab.id/main/livecode/287/533/2667?pr=)"
   ]
  },
  {
   "cell_type": "code",
   "execution_count": null,
   "id": "c3ae539e",
   "metadata": {},
   "outputs": [],
   "source": [
    "import numpy as np\n",
    "import pandas as pd\n",
    "import requests\n",
    "resp_jabar = requests.get('https://storage.googleapis.com/dqlab-dataset/prov_detail_JAWA_BARAT.json', verify=False)\n",
    "cov_jabar_raw = resp_jabar.json()\n",
    "cov_jabar = pd.DataFrame(cov_jabar_raw['list_perkembangan'])\n",
    "\n",
    "cov_jabar_tidy = (cov_jabar.drop(columns=[item for item in cov_jabar.columns \n",
    "                                               if item.startswith('AKUMULASI') \n",
    "                                                  or item.startswith('DIRAWAT')])\n",
    "                           .rename(columns=str.lower)\n",
    "                           .rename(columns={'kasus': 'kasus_baru'})\n",
    "                  )\n",
    "cov_jabar_tidy['tanggal'] = pd.to_datetime(cov_jabar_tidy['tanggal']*1e6, unit='ns')\n",
    "\n",
    "import matplotlib.pyplot as plt\n",
    "\n",
    "plt.clf()\n",
    "fig, ax = plt.subplots(figsize=(10,5))\n",
    "ax.bar(data=cov_jabar_tidy, x='tanggal', height='kasus_baru')\n",
    "plt.show()"
   ]
  },
  {
   "cell_type": "markdown",
   "id": "93d27e7c",
   "metadata": {},
   "source": [
    "## [Informasi pada Grafik](https://academy.dqlab.id/main/livecode/287/533/2668?pr=)"
   ]
  },
  {
   "cell_type": "code",
   "execution_count": null,
   "id": "3d91ef40",
   "metadata": {},
   "outputs": [],
   "source": [
    "import numpy as np\n",
    "import pandas as pd\n",
    "import requests\n",
    "resp_jabar = requests.get('https://storage.googleapis.com/dqlab-dataset/prov_detail_JAWA_BARAT.json', verify=False)\n",
    "cov_jabar_raw = resp_jabar.json()\n",
    "cov_jabar = pd.DataFrame(cov_jabar_raw['list_perkembangan'])\n",
    "\n",
    "cov_jabar_tidy = (cov_jabar.drop(columns=[item for item in cov_jabar.columns \n",
    "                                               if item.startswith('AKUMULASI') \n",
    "                                                  or item.startswith('DIRAWAT')])\n",
    "                           .rename(columns=str.lower)\n",
    "                           .rename(columns={'kasus': 'kasus_baru'})\n",
    "                  )\n",
    "cov_jabar_tidy['tanggal'] = pd.to_datetime(cov_jabar_tidy['tanggal']*1e6, unit='ns')\n",
    "\n",
    "import matplotlib.pyplot as plt\n",
    "import matplotlib.dates as mdates\n",
    "\n",
    "plt.clf()\n",
    "fig, ax = plt.subplots(figsize=(10,5))\n",
    "ax.bar(data=cov_jabar_tidy, x='tanggal', height='kasus_baru', color='salmon')\n",
    "fig.suptitle('Kasus Harian Positif COVID-19 di Jawa Barat', \n",
    "             y=1.00, fontsize=16, fontweight='bold', ha='center')\n",
    "ax.set_title('Terjadi pelonjakan kasus di awal bulan Juli akibat klaster Secapa  AD Bandung',\n",
    "             fontsize=10)\n",
    "ax.set_xlabel('')\n",
    "ax.set_ylabel('Jumlah Kasus')\n",
    "ax.text(1, -0.3, 'Sumber data: covid.19.go.id', color='blue',\n",
    "        ha='right', transform=ax.transAxes)\n",
    "ax.set_xticklabels(ax.get_xticks(), rotation=90)\n",
    "\n",
    "ax.xaxis.set_major_locator(mdates.MonthLocator())\n",
    "ax.xaxis.set_major_formatter(mdates.DateFormatter('%b %Y'))\n",
    "\n",
    "plt.grid(axis='y')\n",
    "plt.tight_layout()\n",
    "plt.show()"
   ]
  },
  {
   "cell_type": "markdown",
   "id": "fff47ce9",
   "metadata": {},
   "source": [
    "## [Grafik untuk Kasus Sembuh](https://academy.dqlab.id/main/livecode/287/533/2669?pr=)"
   ]
  },
  {
   "cell_type": "code",
   "execution_count": null,
   "id": "bdbbb91a",
   "metadata": {},
   "outputs": [],
   "source": [
    "import numpy as np\n",
    "import pandas as pd\n",
    "import requests\n",
    "resp_jabar = requests.get('https://storage.googleapis.com/dqlab-dataset/prov_detail_JAWA_BARAT.json', verify=False)\n",
    "cov_jabar_raw = resp_jabar.json()\n",
    "cov_jabar = pd.DataFrame(cov_jabar_raw['list_perkembangan'])\n",
    "\n",
    "cov_jabar_tidy = (cov_jabar.drop(columns=[item for item in cov_jabar.columns \n",
    "                                               if item.startswith('AKUMULASI') \n",
    "                                                  or item.startswith('DIRAWAT')])\n",
    "                           .rename(columns=str.lower)\n",
    "                           .rename(columns={'kasus': 'kasus_baru'})\n",
    "                  )\n",
    "cov_jabar_tidy['tanggal'] = pd.to_datetime(cov_jabar_tidy['tanggal']*1e6, unit='ns')\n",
    "\n",
    "import matplotlib.pyplot as plt\n",
    "import matplotlib.dates as mdates\n",
    "\n",
    "plt.clf()\n",
    "fig, ax = plt.subplots(figsize=(10,5))\n",
    "ax.bar(data=cov_jabar_tidy, x='tanggal', height='sembuh', color='olivedrab')\n",
    "ax.set_title('Kasus Harian Sembuh Dari COVID-19 di Jawa Barat',\n",
    "             fontsize=22)\n",
    "ax.set_xlabel('')\n",
    "ax.set_ylabel('Jumlah Kasus')\n",
    "ax.text(1, -0.3, 'Sumber data: covid.19.go.id', color='blue',\n",
    "        ha='right', transform=ax.transAxes)\n",
    "ax.set_xticklabels(ax.get_xticks(), rotation=90)\n",
    "\n",
    "ax.xaxis.set_major_locator(mdates.MonthLocator())\n",
    "ax.xaxis.set_major_formatter(mdates.DateFormatter('%b %Y'))\n",
    "\n",
    "plt.grid(axis='y')\n",
    "plt.tight_layout()\n",
    "plt.show()"
   ]
  },
  {
   "cell_type": "markdown",
   "id": "c96befa2",
   "metadata": {},
   "source": [
    "## [Grafik untuk Kasus Meninggal](https://academy.dqlab.id/main/livecode/287/533/2670?pr=)"
   ]
  },
  {
   "cell_type": "code",
   "execution_count": null,
   "id": "f2122048",
   "metadata": {},
   "outputs": [],
   "source": [
    "import numpy as np\n",
    "import pandas as pd\n",
    "import requests\n",
    "resp_jabar = requests.get('https://storage.googleapis.com/dqlab-dataset/prov_detail_JAWA_BARAT.json', verify=False)\n",
    "cov_jabar_raw = resp_jabar.json()\n",
    "cov_jabar = pd.DataFrame(cov_jabar_raw['list_perkembangan'])\n",
    "\n",
    "cov_jabar_tidy = (cov_jabar.drop(columns=[item for item in cov_jabar.columns \n",
    "                                               if item.startswith('AKUMULASI') \n",
    "                                                  or item.startswith('DIRAWAT')])\n",
    "                           .rename(columns=str.lower)\n",
    "                           .rename(columns={'kasus': 'kasus_baru'})\n",
    "                  )\n",
    "cov_jabar_tidy['tanggal'] = pd.to_datetime(cov_jabar_tidy['tanggal']*1e6, unit='ns')\n",
    "\n",
    "import matplotlib.pyplot as plt\n",
    "import matplotlib.dates as mdates\n",
    "\n",
    "plt.clf()\n",
    "fig, ax = plt.subplots(figsize=(10,5))\n",
    "ax.bar(data=cov_jabar_tidy, x='tanggal', height='meninggal', color='slategrey')\n",
    "ax.set_title('Kasus Harian Meninggal Dari COVID-19 di Jawa Barat',\n",
    "             fontsize=22)\n",
    "ax.set_xlabel('')\n",
    "ax.set_ylabel('Jumlah Kasus')\n",
    "ax.text(1, -0.3, 'Sumber data: covid.19.go.id', color='blue',\n",
    "        ha='right', transform=ax.transAxes)\n",
    "ax.set_xticklabels(ax.get_xticks(), rotation=90)\n",
    "\n",
    "ax.xaxis.set_major_locator(mdates.MonthLocator())\n",
    "ax.xaxis.set_major_formatter(mdates.DateFormatter('%b %Y'))\n",
    "\n",
    "plt.grid(axis='y')\n",
    "plt.tight_layout()\n",
    "plt.show()"
   ]
  },
  {
   "cell_type": "markdown",
   "id": "1a49d991",
   "metadata": {},
   "source": [
    "# Menggali Lebih Dalam"
   ]
  },
  {
   "cell_type": "markdown",
   "id": "f99d9caa",
   "metadata": {},
   "source": [
    "## [Apakah Pekan ini Lebih Baik?](https://academy.dqlab.id/main/livecode/287/535/2671?pr=)"
   ]
  },
  {
   "cell_type": "code",
   "execution_count": null,
   "id": "4fd21ee5",
   "metadata": {},
   "outputs": [],
   "source": [
    "import numpy as np\n",
    "import pandas as pd\n",
    "import requests\n",
    "resp_jabar = requests.get('https://storage.googleapis.com/dqlab-dataset/prov_detail_JAWA_BARAT.json', verify=False)\n",
    "cov_jabar_raw = resp_jabar.json()\n",
    "cov_jabar = pd.DataFrame(cov_jabar_raw['list_perkembangan'])\n",
    "\n",
    "cov_jabar_tidy = (cov_jabar.drop(columns=[item for item in cov_jabar.columns \n",
    "                                               if item.startswith('AKUMULASI') \n",
    "                                                  or item.startswith('DIRAWAT')])\n",
    "                           .rename(columns=str.lower)\n",
    "                           .rename(columns={'kasus': 'kasus_baru'})\n",
    "                  )\n",
    "cov_jabar_tidy['tanggal'] = pd.to_datetime(cov_jabar_tidy['tanggal']*1e6, unit='ns')\n",
    "\n",
    "cov_jabar_pekanan = (cov_jabar_tidy.set_index('tanggal')['kasus_baru']\n",
    "                                   .resample('W')\n",
    "                                   .sum()\n",
    "                                   .reset_index()\n",
    "                                   .rename(columns={'kasus_baru': 'jumlah'})\n",
    "                    )\n",
    "cov_jabar_pekanan['tahun'] = cov_jabar_pekanan['tanggal'].apply(lambda x: x.year)\n",
    "cov_jabar_pekanan['pekan_ke'] = cov_jabar_pekanan['tanggal'].apply(lambda x: x.weekofyear)\n",
    "cov_jabar_pekanan = cov_jabar_pekanan[['tahun', 'pekan_ke', 'jumlah']]\n",
    "print('Info cov_jabar_pekanan:')\n",
    "print(cov_jabar_pekanan.info())\n",
    "print('\\nLima data teratas cov_jabar_pekanan:\\n', cov_jabar_pekanan.head())"
   ]
  },
  {
   "cell_type": "markdown",
   "id": "8a2fd1f7",
   "metadata": {},
   "source": [
    "## [Menjawab Pertanyaan](https://academy.dqlab.id/main/livecode/287/535/2672?pr=)"
   ]
  },
  {
   "cell_type": "code",
   "execution_count": null,
   "id": "2b7d1166",
   "metadata": {},
   "outputs": [],
   "source": [
    "import numpy as np\n",
    "import pandas as pd\n",
    "import requests\n",
    "resp_jabar = requests.get('https://storage.googleapis.com/dqlab-dataset/prov_detail_JAWA_BARAT.json', verify=False)\n",
    "cov_jabar_raw = resp_jabar.json()\n",
    "cov_jabar = pd.DataFrame(cov_jabar_raw['list_perkembangan'])\n",
    "\n",
    "cov_jabar_tidy = (cov_jabar.drop(columns=[item for item in cov_jabar.columns \n",
    "                                               if item.startswith('AKUMULASI') \n",
    "                                                  or item.startswith('DIRAWAT')])\n",
    "                           .rename(columns=str.lower)\n",
    "                           .rename(columns={'kasus': 'kasus_baru'})\n",
    "                  )\n",
    "cov_jabar_tidy['tanggal'] = pd.to_datetime(cov_jabar_tidy['tanggal']*1e6, unit='ns')\n",
    "\n",
    "cov_jabar_pekanan = (cov_jabar_tidy.set_index('tanggal')['kasus_baru']\n",
    "                                   .resample('W')\n",
    "                                   .sum()\n",
    "                                   .reset_index()\n",
    "                                   .rename(columns={'kasus_baru': 'jumlah'})\n",
    "                    )\n",
    "cov_jabar_pekanan['tahun'] = cov_jabar_pekanan['tanggal'].apply(lambda x: x.year)\n",
    "cov_jabar_pekanan['pekan_ke'] = cov_jabar_pekanan['tanggal'].apply(lambda x: x.weekofyear)\n",
    "cov_jabar_pekanan = cov_jabar_pekanan[['tahun', 'pekan_ke', 'jumlah']]\n",
    "\n",
    "cov_jabar_pekanan['jumlah_pekanlalu'] = cov_jabar_pekanan['jumlah'].shift().replace(np.nan, 0).astype(np.int)\n",
    "cov_jabar_pekanan['lebih_baik'] = cov_jabar_pekanan['jumlah'] < cov_jabar_pekanan['jumlah_pekanlalu']\n",
    "\n",
    "print('Sepuluh data teratas:\\n', cov_jabar_pekanan.head(10))"
   ]
  },
  {
   "cell_type": "markdown",
   "id": "6186b645",
   "metadata": {},
   "source": [
    "## [Membuat Bar Chart](https://academy.dqlab.id/main/livecode/287/535/2673?pr=)"
   ]
  },
  {
   "cell_type": "code",
   "execution_count": null,
   "id": "8820f9ad",
   "metadata": {},
   "outputs": [],
   "source": [
    "import numpy as np\n",
    "import pandas as pd\n",
    "import requests\n",
    "resp_jabar = requests.get('https://storage.googleapis.com/dqlab-dataset/prov_detail_JAWA_BARAT.json', verify=False)\n",
    "cov_jabar_raw = resp_jabar.json()\n",
    "cov_jabar = pd.DataFrame(cov_jabar_raw['list_perkembangan'])\n",
    "\n",
    "cov_jabar_tidy = (cov_jabar.drop(columns=[item for item in cov_jabar.columns \n",
    "                                               if item.startswith('AKUMULASI') \n",
    "                                                  or item.startswith('DIRAWAT')])\n",
    "                           .rename(columns=str.lower)\n",
    "                           .rename(columns={'kasus': 'kasus_baru'})\n",
    "                  )\n",
    "cov_jabar_tidy['tanggal'] = pd.to_datetime(cov_jabar_tidy['tanggal']*1e6, unit='ns')\n",
    "\n",
    "cov_jabar_pekanan = (cov_jabar_tidy.set_index('tanggal')['kasus_baru']\n",
    "                                   .resample('W')\n",
    "                                   .sum()\n",
    "                                   .reset_index()\n",
    "                                   .rename(columns={'kasus_baru': 'jumlah'})\n",
    "                    )\n",
    "cov_jabar_pekanan['tahun'] = cov_jabar_pekanan['tanggal'].apply(lambda x: x.year)\n",
    "cov_jabar_pekanan['pekan_ke'] = cov_jabar_pekanan['tanggal'].apply(lambda x: x.weekofyear)\n",
    "cov_jabar_pekanan = cov_jabar_pekanan[['tahun', 'pekan_ke', 'jumlah']]\n",
    "\n",
    "cov_jabar_pekanan['jumlah_pekanlalu'] = cov_jabar_pekanan['jumlah'].shift().replace(np.nan, 0).astype(np.int)\n",
    "cov_jabar_pekanan['lebih_baik'] = cov_jabar_pekanan['jumlah'] < cov_jabar_pekanan['jumlah_pekanlalu']\n",
    "\n",
    "import matplotlib.pyplot as plt\n",
    "\n",
    "plt.clf()\n",
    "jml_tahun_terjadi_covid19 = cov_jabar_pekanan['tahun'].nunique()\n",
    "tahun_terjadi_covid19 = cov_jabar_pekanan['tahun'].unique()\n",
    "fig, axes = plt.subplots(nrows=jml_tahun_terjadi_covid19,\n",
    "\t\t\t\t\t\tfigsize=(10,3*jml_tahun_terjadi_covid19))\n",
    "\n",
    "fig.suptitle('Kasus Pekanan Positif COVID-19 di Jawa Barat',\n",
    "\t\t\ty=1.00, fontsize=16, fontweight='bold', ha='center')\n",
    "for i , ax in enumerate(axes):\n",
    "\tax.bar(data=cov_jabar_pekanan.loc[cov_jabar_pekanan['tahun']==tahun_terjadi_covid19[i]],\n",
    "\t\t  x='pekan_ke', height='jumlah',\n",
    "\t\t  color=['mediumseagreen' if x is True else 'salmon'\n",
    "\t\t\t\tfor x in cov_jabar_pekanan['lebih_baik']])\n",
    "\tif i == 0:\n",
    "\t\tax.set_title('Kolom hijau menunjukkan penambahan kasus baru lebih sedikit dibandingkan satu pekan sebelumnya',\n",
    "\t\t\t\t\tfontsize=10)\n",
    "\telif i == jml_tahun_terjadi_covid19-1:\n",
    "\t\tax.text(1, -0.2, 'Sumber data: covid.19.go.id', color='blue',\n",
    "\t\t\tha='right', transform=ax.transAxes)\n",
    "\t\t\n",
    "\tax.set_xlim([0, 52.5])\n",
    "\tax.set_ylim([0, max(cov_jabar_pekanan['jumlah'])])\n",
    "\tax.set_xlabel('')\n",
    "\tax.set_ylabel('Jumlah kasus %d'%(tahun_terjadi_covid19[i],))\n",
    "\tax.grid(axis='y')\n",
    "\t\n",
    "plt.tight_layout()\n",
    "plt.show()"
   ]
  },
  {
   "cell_type": "markdown",
   "id": "2dc176ff",
   "metadata": {},
   "source": [
    "## [Pola dan Dinamika](https://academy.dqlab.id/main/livecode/287/535/2674?pr=)"
   ]
  },
  {
   "cell_type": "code",
   "execution_count": null,
   "id": "0b89e411",
   "metadata": {},
   "outputs": [],
   "source": [
    "import numpy as np\n",
    "import pandas as pd\n",
    "import requests\n",
    "resp_jabar = requests.get('https://storage.googleapis.com/dqlab-dataset/prov_detail_JAWA_BARAT.json', verify=False)\n",
    "cov_jabar_raw = resp_jabar.json()\n",
    "cov_jabar = pd.DataFrame(cov_jabar_raw['list_perkembangan'])\n",
    "\n",
    "cov_jabar_tidy = (cov_jabar.drop(columns=[item for item in cov_jabar.columns \n",
    "                                               if item.startswith('AKUMULASI') \n",
    "                                                  or item.startswith('DIRAWAT')])\n",
    "                           .rename(columns=str.lower)\n",
    "                           .rename(columns={'kasus': 'kasus_baru'})\n",
    "                  )\n",
    "cov_jabar_tidy['tanggal'] = pd.to_datetime(cov_jabar_tidy['tanggal']*1e6, unit='ns')\n",
    "\n",
    "cov_jabar_akumulasi = cov_jabar_tidy[['tanggal']].copy()\n",
    "cov_jabar_akumulasi['akumulasi_aktif'] = (cov_jabar_tidy['kasus_baru'] - cov_jabar_tidy['sembuh'] - cov_jabar_tidy['meninggal']).cumsum()\n",
    "cov_jabar_akumulasi['akumulasi_sembuh'] = cov_jabar_tidy['sembuh'].cumsum()\n",
    "cov_jabar_akumulasi['akumulasi_meninggal'] = cov_jabar_tidy['meninggal'].cumsum()\n",
    "print(cov_jabar_akumulasi.tail())"
   ]
  },
  {
   "cell_type": "markdown",
   "id": "9e6f33c0",
   "metadata": {},
   "source": [
    "## [Membuat Line Chart](https://academy.dqlab.id/main/livecode/287/535/2675?pr=)"
   ]
  },
  {
   "cell_type": "code",
   "execution_count": null,
   "id": "cad6c95c",
   "metadata": {},
   "outputs": [],
   "source": [
    "import numpy as np\n",
    "import pandas as pd\n",
    "import requests\n",
    "resp_jabar = requests.get('https://storage.googleapis.com/dqlab-dataset/prov_detail_JAWA_BARAT.json', verify=False)\n",
    "cov_jabar_raw = resp_jabar.json()\n",
    "cov_jabar = pd.DataFrame(cov_jabar_raw['list_perkembangan'])\n",
    "\n",
    "cov_jabar_tidy = (cov_jabar.drop(columns=[item for item in cov_jabar.columns \n",
    "                                               if item.startswith('AKUMULASI') \n",
    "                                                  or item.startswith('DIRAWAT')])\n",
    "                           .rename(columns=str.lower)\n",
    "                           .rename(columns={'kasus': 'kasus_baru'})\n",
    "                  )\n",
    "cov_jabar_tidy['tanggal'] = pd.to_datetime(cov_jabar_tidy['tanggal']*1e6, unit='ns')\n",
    "\n",
    "cov_jabar_akumulasi = cov_jabar_tidy[['tanggal']].copy()\n",
    "cov_jabar_akumulasi['akumulasi_aktif'] = (cov_jabar_tidy['kasus_baru'] - cov_jabar_tidy['sembuh'] - cov_jabar_tidy['meninggal']).cumsum()\n",
    "cov_jabar_akumulasi['akumulasi_sembuh'] = cov_jabar_tidy['sembuh'].cumsum()\n",
    "cov_jabar_akumulasi['akumulasi_meninggal'] = cov_jabar_tidy['meninggal'].cumsum()\n",
    "\n",
    "import matplotlib.pyplot as plt\n",
    "import matplotlib.dates as mdates\n",
    "\n",
    "plt.clf()\n",
    "fig, ax = plt.subplots(figsize=(10,5))\n",
    "ax.plot('tanggal','akumulasi_aktif', data=cov_jabar_akumulasi, lw=2)\n",
    "\n",
    "ax.set_title('Akumulasi aktif COVID-19 di Jawa Barat',\n",
    "             fontsize=22)\n",
    "ax.set_xlabel('')\n",
    "ax.set_ylabel('Akumulasi aktif')\n",
    "ax.text(1, -0.3, 'Sumber data: covid.19.go.id', color='blue',\n",
    "        ha='right', transform=ax.transAxes)\n",
    "ax.set_xticklabels(ax.get_xticks(), rotation=90)\n",
    "\n",
    "ax.xaxis.set_major_locator(mdates.MonthLocator())\n",
    "ax.xaxis.set_major_formatter(mdates.DateFormatter('%b %Y'))\n",
    "\n",
    "plt.grid()\n",
    "plt.tight_layout()\n",
    "plt.show()"
   ]
  },
  {
   "cell_type": "markdown",
   "id": "7f233253",
   "metadata": {},
   "source": [
    "## [Kabar Buruk dan Kabar Baik](https://academy.dqlab.id/main/livecode/287/535/2676?pr=)"
   ]
  },
  {
   "cell_type": "code",
   "execution_count": null,
   "id": "68abccb4",
   "metadata": {},
   "outputs": [],
   "source": [
    "True"
   ]
  },
  {
   "cell_type": "markdown",
   "id": "3bd10b33",
   "metadata": {},
   "source": [
    "## [Tahap Terakhir](https://academy.dqlab.id/main/livecode/287/535/2677?pr=)"
   ]
  },
  {
   "cell_type": "code",
   "execution_count": null,
   "id": "8e8f88b6",
   "metadata": {},
   "outputs": [],
   "source": [
    "import numpy as np\n",
    "import pandas as pd\n",
    "import requests\n",
    "resp_jabar = requests.get('https://storage.googleapis.com/dqlab-dataset/prov_detail_JAWA_BARAT.json', verify=False)\n",
    "cov_jabar_raw = resp_jabar.json()\n",
    "cov_jabar = pd.DataFrame(cov_jabar_raw['list_perkembangan'])\n",
    "\n",
    "cov_jabar_tidy = (cov_jabar.drop(columns=[item for item in cov_jabar.columns \n",
    "                                               if item.startswith('AKUMULASI') \n",
    "                                                  or item.startswith('DIRAWAT')])\n",
    "                           .rename(columns=str.lower)\n",
    "                           .rename(columns={'kasus': 'kasus_baru'})\n",
    "                  )\n",
    "cov_jabar_tidy['tanggal'] = pd.to_datetime(cov_jabar_tidy['tanggal']*1e6, unit='ns')\n",
    "\n",
    "cov_jabar_akumulasi = cov_jabar_tidy[['tanggal']].copy()\n",
    "cov_jabar_akumulasi['akumulasi_aktif'] = (cov_jabar_tidy['kasus_baru'] - cov_jabar_tidy['sembuh'] - cov_jabar_tidy['meninggal']).cumsum()\n",
    "cov_jabar_akumulasi['akumulasi_sembuh'] = cov_jabar_tidy['sembuh'].cumsum()\n",
    "cov_jabar_akumulasi['akumulasi_meninggal'] = cov_jabar_tidy['meninggal'].cumsum()\n",
    "\n",
    "import matplotlib.pyplot as plt\n",
    "import matplotlib.dates as mdates\n",
    "plt.clf()\n",
    "fig, ax = plt.subplots(figsize=(10,5))\n",
    "cov_jabar_akumulasi_ts = cov_jabar_akumulasi.set_index('tanggal')\n",
    "cov_jabar_akumulasi_ts.plot(kind='line', ax=ax, lw=3,\n",
    "\t\t\t\t\t\t\tcolor=['salmon', 'slategrey', 'olivedrab'])\n",
    "\n",
    "ax.set_title('Dinamika Kasus COVID-19 di Jawa Barat',\n",
    "\t\t\t fontsize=22)\n",
    "ax.set_xlabel('')\n",
    "ax.set_ylabel('Akumulasi aktif')\n",
    "ax.text(1, -0.3, 'Sumber data: covid.19.go.id', color='blue',\n",
    "\t    ha='right', transform=ax.transAxes)\n",
    "\n",
    "plt.grid()\n",
    "plt.tight_layout()\n",
    "plt.show()"
   ]
  },
  {
   "cell_type": "markdown",
   "id": "66d5c3e4",
   "metadata": {},
   "source": [
    "# Penutup\n",
    "## Kesimpulan & Penutup\n",
    "Selamat Anda telah menyelesaikan proyek analisis COVID-19 ini! Anda telah berhasil melakukan impor data melalui API, melakukan transformasi data, serta membuat visualisasi untuk mengkomunikasikan hasil analisis data tentang COVID-19. Anda dipersilakan untuk selanjutnya mengembangkan analisis dengan cara mengambil studi kasus provinsi lain atau bahkan melakukan komparasi antar provinsi.\n",
    "\n",
    "Dengan berhasilnya Anda menyelesaikan proyek analisis ini, semoga Anda tetap sehat, waspada dan tetap tenang dalam menghadapi pandemi COVID-19. Selamat dan sukses selalu!"
   ]
  }
 ],
 "metadata": {
  "kernelspec": {
   "display_name": "Python 3 (ipykernel)",
   "language": "python",
   "name": "python3"
  },
  "language_info": {
   "codemirror_mode": {
    "name": "ipython",
    "version": 3
   },
   "file_extension": ".py",
   "mimetype": "text/x-python",
   "name": "python",
   "nbconvert_exporter": "python",
   "pygments_lexer": "ipython3",
   "version": "3.9.0"
  }
 },
 "nbformat": 4,
 "nbformat_minor": 5
}
