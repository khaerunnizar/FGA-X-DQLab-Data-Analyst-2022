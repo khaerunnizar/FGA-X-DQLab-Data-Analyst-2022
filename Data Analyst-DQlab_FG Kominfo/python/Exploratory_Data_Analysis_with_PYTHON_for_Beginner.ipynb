{
 "cells": [
  {
   "cell_type": "markdown",
   "metadata": {
    "id": "LTQc5nvFyeGw"
   },
   "source": [
    "## [Memanggil library di Python](https://academy.dqlab.id/main/livecode/163/308/1418?pr=0)"
   ]
  },
  {
   "cell_type": "code",
   "execution_count": null,
   "metadata": {
    "id": "BbtnP5Mcx7xP"
   },
   "outputs": [],
   "source": [
    "import numpy as np\n",
    "import pandas as pd"
   ]
  },
  {
   "cell_type": "markdown",
   "metadata": {
    "id": "FZ1BUzPqywCx"
   },
   "source": [
    "## [Tugas Praktek-2.1](https://academy.dqlab.id/main/livecode/163/309/1420?pr=0)"
   ]
  },
  {
   "cell_type": "code",
   "execution_count": null,
   "metadata": {
    "id": "T_mbElSTy69v"
   },
   "outputs": [],
   "source": [
    "import pandas as pd\n",
    "order_df = pd.read_csv(\"https://storage.googleapis.com/dqlab-dataset/order.csv\")"
   ]
  },
  {
   "cell_type": "markdown",
   "metadata": {
    "id": "HzFc75VPy79t"
   },
   "source": [
    "## [Tugas Praktek-2.2](https://academy.dqlab.id/main/livecode/163/309/1423?pr=0)"
   ]
  },
  {
   "cell_type": "code",
   "execution_count": null,
   "metadata": {
    "id": "tlBce0xvzHfP"
   },
   "outputs": [],
   "source": [
    "import pandas as pd\n",
    "order_df = pd.read_csv(\"https://storage.googleapis.com/dqlab-dataset/order.csv\")\n",
    "print(order_df.shape)"
   ]
  },
  {
   "cell_type": "markdown",
   "metadata": {
    "id": "fT8ayJc8zIJF"
   },
   "source": [
    "## [Tugas Praktek-2.3](https://academy.dqlab.id/main/livecode/163/309/1425?pr=0)"
   ]
  },
  {
   "cell_type": "code",
   "execution_count": null,
   "metadata": {
    "id": "3s1bIbj0zWb9"
   },
   "outputs": [],
   "source": [
    "import pandas as pd\n",
    "order_df = pd.read_csv(\"https://storage.googleapis.com/dqlab-dataset/order.csv\")\n",
    "print(order_df.head(10))"
   ]
  },
  {
   "cell_type": "markdown",
   "metadata": {
    "id": "4lyc1MGjzW1p"
   },
   "source": [
    "## [Tugas Praktek-2.4](https://academy.dqlab.id/main/livecode/163/309/1430?pr=0)"
   ]
  },
  {
   "cell_type": "code",
   "execution_count": null,
   "metadata": {
    "id": "Zuxvg1lZzg8t"
   },
   "outputs": [],
   "source": [
    "import pandas as pd\n",
    "order_df = pd.read_csv(\"https://storage.googleapis.com/dqlab-dataset/order.csv\")\n",
    "# Quick summary  dari segi kuantitas, harga, freight value, dan weight\n",
    "print(order_df.describe())\n",
    "# Median median dari total pembelian konsumen per transaksi kolom price\n",
    "print(order_df.loc[:, \"price\"].median())"
   ]
  },
  {
   "cell_type": "markdown",
   "metadata": {
    "id": "9MuNguMS1L2X"
   },
   "source": [
    "## [Tugas Praktek-3.1](https://academy.dqlab.id/main/livecode/163/310/1432?pr=0)"
   ]
  },
  {
   "cell_type": "code",
   "execution_count": null,
   "metadata": {
    "id": "gSDSIx7-1V9r"
   },
   "outputs": [],
   "source": [
    "import pandas as pd\n",
    "import matplotlib.pyplot as plt\n",
    "order_df = pd.read_csv(\"https://storage.googleapis.com/dqlab-dataset/order.csv\")\n",
    "# plot histogram kolom: price\n",
    "order_df[[\"price\"]].hist(figsize=(4, 5), bins=10, xlabelsize=8, ylabelsize=8)\n",
    "plt.show()  # Untuk menampilkan histogram plot"
   ]
  },
  {
   "cell_type": "markdown",
   "metadata": {
    "id": "SvUhePpD1W1v"
   },
   "source": [
    "## [Tugas Praktek-3.2](https://academy.dqlab.id/main/livecode/163/310/1434?pr=0)"
   ]
  },
  {
   "cell_type": "code",
   "execution_count": null,
   "metadata": {
    "id": "K2ZgwPyG1g9V"
   },
   "outputs": [],
   "source": [
    "import pandas as pd\n",
    "order_df = pd.read_csv(\"https://storage.googleapis.com/dqlab-dataset/order.csv\")\n",
    "# Standar variasi kolom product_weight_gram\n",
    "order_df.loc[:, \"product_weight_gram\"].std()\n",
    "# Varians kolom product_weight_gram\n",
    "order_df.loc[:, \"product_weight_gram\"].var()"
   ]
  },
  {
   "cell_type": "markdown",
   "metadata": {
    "id": "ztCwfegu1iCV"
   },
   "source": [
    "## [Tugas Praktek-3.3](https://academy.dqlab.id/main/livecode/163/310/1436?pr=0)"
   ]
  },
  {
   "cell_type": "code",
   "execution_count": null,
   "metadata": {
    "id": "GCobydwC1rUn"
   },
   "outputs": [],
   "source": [
    "import pandas as pd\n",
    "order_df = pd.read_csv(\"https://storage.googleapis.com/dqlab-dataset/order.csv\")\n",
    "# Hitung quartile 1\n",
    "Q1 = order_df[[\"product_weight_gram\"]].quantile(0.25)\n",
    "# Hitung quartile 3\n",
    "Q3 = order_df[[\"product_weight_gram\"]].quantile(0.75)\n",
    "# Hitung inter quartile range dan cetak ke console\n",
    "IQR = Q3 - Q1\n",
    "print(IQR)"
   ]
  },
  {
   "cell_type": "markdown",
   "metadata": {
    "id": "rJzErn-s1sl3"
   },
   "source": [
    "## [Tugas Praktek-3.4](https://academy.dqlab.id/main/livecode/163/310/1438?pr=0)"
   ]
  },
  {
   "cell_type": "code",
   "execution_count": null,
   "metadata": {
    "id": "zUZIvHEJ19QJ"
   },
   "outputs": [],
   "source": [
    "import pandas as pd\n",
    "order_df = pd.read_csv(\"https://storage.googleapis.com/dqlab-dataset/order.csv\")\n",
    "# Ganti nama kolom freight_value menjadi shipping_cost\n",
    "order_df.rename(columns={\"freight_value\": \"shipping_cost\"}, inplace=True)\n",
    "print(order_df)"
   ]
  },
  {
   "cell_type": "markdown",
   "metadata": {
    "id": "fL6vRbXE2A6U"
   },
   "source": [
    "## [Tugas Praktek-3.5](https://academy.dqlab.id/main/livecode/163/310/1440?pr=0)"
   ]
  },
  {
   "cell_type": "code",
   "execution_count": null,
   "metadata": {
    "id": "3Oy7IwnS2KD2"
   },
   "outputs": [],
   "source": [
    "import pandas as pd\n",
    "order_df = pd.read_csv(\"https://storage.googleapis.com/dqlab-dataset/order.csv\")\n",
    "# Hitung rata rata dari price per payment_type\n",
    "rata_rata = order_df[\"price\"].groupby(order_df[\"payment_type\"]).mean()\n",
    "print(rata_rata)"
   ]
  },
  {
   "cell_type": "markdown",
   "metadata": {
    "id": "5SVcjRTg2NWB"
   },
   "source": [
    "## [Tugas Praktek-3.6](https://academy.dqlab.id/main/livecode/163/310/1442?pr=0)"
   ]
  },
  {
   "cell_type": "code",
   "execution_count": null,
   "metadata": {
    "id": "KLeZyaTo2W35"
   },
   "outputs": [],
   "source": [
    "import pandas as pd\n",
    "order_df = pd.read_csv(\"https://storage.googleapis.com/dqlab-dataset/order.csv\")\n",
    "# Hitung harga maksimum pembelian customer\n",
    "sort_harga = order_df.sort_values(by=\"price\", ascending=False)\n",
    "print(sort_harga)"
   ]
  },
  {
   "cell_type": "markdown",
   "metadata": {
    "id": "rXLxjJse2dKr"
   },
   "source": [
    "## [Tugas dari Andra](https://academy.dqlab.id/main/livecode/163/311/1444?pr=0)"
   ]
  },
  {
   "cell_type": "code",
   "execution_count": null,
   "metadata": {
    "id": "lkmf2Ph_2ixR"
   },
   "outputs": [],
   "source": [
    "import pandas as pd\n",
    "import matplotlib.pyplot as plt\n",
    "order_df = pd.read_csv(\"https://storage.googleapis.com/dqlab-dataset/order.csv\")\n",
    "\n",
    "# Median price yang dibayar customer dari masing-masing metode pembayaran. \n",
    "median_price = order_df[\"price\"].groupby(order_df[\"payment_type\"]).median()\n",
    "print(median_price)\n",
    "\n",
    "# Ubah freight_value menjadi shipping_cost dan cari shipping_cost \n",
    "# termahal dari data penjualan tersebut menggunakan sort.\n",
    "order_df.rename(columns={\"freight_value\": \"shipping_cost\"}, inplace=True)\n",
    "sort_value = order_df.sort_values(by=\"shipping_cost\", ascending=0)\n",
    "print(sort_value)\n",
    "\n",
    "# Untuk product_category_name, berapa  rata-rata weight produk tersebut \n",
    "# dan standar deviasi mana yang terkecil dari weight tersebut, \n",
    "mean_value = order_df[\"product_weight_gram\"].groupby(order_df[\"product_category_name\"]).mean()\n",
    "print(mean_value.sort_values())\n",
    "std_value = order_df[\"product_weight_gram\"].groupby(order_df[\"product_category_name\"]).std()\n",
    "print(std_value.sort_values())\n",
    "\n",
    "# Buat histogram quantity penjualan dari dataset tersebutuntuk melihat persebaran quantity \n",
    "# penjualan tersebut dengan bins = 5 dan figsize= (4,5)\n",
    "order_df[[\"quantity\"]].hist(figsize=(4, 5), bins=5)\n",
    "plt.show()"
   ]
  }
 ],
 "metadata": {
  "colab": {
   "name": "Exploratory Data Analysis with PYTHON for Beginner.ipynb",
   "private_outputs": true,
   "provenance": []
  },
  "kernelspec": {
   "display_name": "Python 3 (ipykernel)",
   "language": "python",
   "name": "python3"
  },
  "language_info": {
   "codemirror_mode": {
    "name": "ipython",
    "version": 3
   },
   "file_extension": ".py",
   "mimetype": "text/x-python",
   "name": "python",
   "nbconvert_exporter": "python",
   "pygments_lexer": "ipython3",
   "version": "3.9.0"
  }
 },
 "nbformat": 4,
 "nbformat_minor": 1
}
