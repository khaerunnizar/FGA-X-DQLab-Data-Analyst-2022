{
 "cells": [
  {
   "cell_type": "markdown",
   "metadata": {
    "id": "LTQc5nvFyeGw"
   },
   "source": [
    "## [Memanggil library di Python](https://academy.dqlab.id/main/livecode/163/308/1418?pr=0)"
   ]
  },
  {
   "cell_type": "code",
   "execution_count": 15,
   "metadata": {
    "id": "BbtnP5Mcx7xP"
   },
   "outputs": [],
   "source": [
    "#Download Data Set Here: https://drive.google.com/file/d/19pnrN0jK0hf3VeqR--HnOLm7XKt6U0Sh/view?usp=share_link\n",
    "import numpy as np\n",
    "import pandas as pd"
   ]
  },
  {
   "cell_type": "markdown",
   "metadata": {
    "id": "FZ1BUzPqywCx"
   },
   "source": [
    "## [Import Dataset](https://academy.dqlab.id/main/livecode/163/309/1420?pr=0)"
   ]
  },
  {
   "cell_type": "code",
   "execution_count": 19,
   "metadata": {
    "id": "T_mbElSTy69v"
   },
   "outputs": [],
   "source": [
    "import pandas as pd\n",
    "order_df = pd.read_csv(r\"D:\\Data Analyst-DQlab_FG Kominfo\\Orders_Data.csv\")"
   ]
  },
  {
   "cell_type": "markdown",
   "metadata": {
    "id": "HzFc75VPy79t"
   },
   "source": [
    "## [Showing Data shape](https://academy.dqlab.id/main/livecode/163/309/1423?pr=0)"
   ]
  },
  {
   "cell_type": "code",
   "execution_count": 20,
   "metadata": {
    "id": "tlBce0xvzHfP"
   },
   "outputs": [
    {
     "name": "stdout",
     "output_type": "stream",
     "text": [
      "(2157, 12)\n"
     ]
    }
   ],
   "source": [
    "import pandas as pd\n",
    "order_df = pd.read_csv(r\"D:\\Data Analyst-DQlab_FG Kominfo\\Orders_Data.csv\")\n",
    "print(order_df.shape)"
   ]
  },
  {
   "cell_type": "markdown",
   "metadata": {
    "id": "fT8ayJc8zIJF"
   },
   "source": [
    "## [Showing Table](https://academy.dqlab.id/main/livecode/163/309/1425?pr=0)"
   ]
  },
  {
   "cell_type": "code",
   "execution_count": 21,
   "metadata": {
    "id": "3s1bIbj0zWb9"
   },
   "outputs": [
    {
     "name": "stdout",
     "output_type": "stream",
     "text": [
      "   order_id  quantity  product_id      price  seller_id  freight_value  \\\n",
      "0   10248.0      12.0        11.0  1489000.0       12.0        28000.0   \n",
      "1   10248.0      10.0        42.0  1756000.0       25.0        45000.0   \n",
      "2   10248.0       5.0        72.0  1707000.0        6.0       174000.0   \n",
      "3   10249.0       9.0        14.0  3071000.0        6.0       154000.0   \n",
      "4   10249.0      40.0        51.0  3833000.0        5.0       147000.0   \n",
      "5   10250.0      10.0        41.0  1480000.0        4.0       152000.0   \n",
      "6   10250.0      35.0        51.0  4489000.0        4.0        16000.0   \n",
      "7   10250.0      15.0        65.0   822000.0        5.0        58000.0   \n",
      "8   10251.0       6.0        22.0  3967000.0       21.0        95000.0   \n",
      "9   10251.0      15.0        57.0  4165000.0       22.0        98000.0   \n",
      "\n",
      "  customer_id order_status purchase_date     payment_type  \\\n",
      "0       VINET      shipped      9/5/2016  virtual account   \n",
      "1       TOMSP      shipped      9/5/2016  virtual account   \n",
      "2       HANAR     canceled      9/5/2016         e-wallet   \n",
      "3       VICTE    delivered     10/3/2016         e-wallet   \n",
      "4       SUPRD     canceled     10/3/2016         e-wallet   \n",
      "5       HANAR    delivered     10/3/2016         e-wallet   \n",
      "6       CHOPS    delivered     10/4/2016       debit card   \n",
      "7       RICSU    delivered     10/4/2016      credit card   \n",
      "8       WELLI    delivered     10/4/2016       debit card   \n",
      "9       HILAA    delivered     10/4/2016      credit card   \n",
      "\n",
      "  product_category_name  product_weight_gram  \n",
      "0               fashion               1800.0  \n",
      "1            automotive               1400.0  \n",
      "2                  toys                700.0  \n",
      "3             utilities                300.0  \n",
      "4               fashion                500.0  \n",
      "5           electronics                400.0  \n",
      "6                  toys               3100.0  \n",
      "7            automotive                200.0  \n",
      "8                beauty                600.0  \n",
      "9            automotive                610.0  \n"
     ]
    }
   ],
   "source": [
    "import pandas as pd\n",
    "order_df = pd.read_csv(r\"D:\\Data Analyst-DQlab_FG Kominfo\\Orders_Data.csv\")\n",
    "print(order_df.head(10))"
   ]
  },
  {
   "cell_type": "markdown",
   "metadata": {
    "id": "4lyc1MGjzW1p"
   },
   "source": [
    "## [Quick Summary Of The Data](https://academy.dqlab.id/main/livecode/163/309/1430?pr=0)"
   ]
  },
  {
   "cell_type": "code",
   "execution_count": 22,
   "metadata": {
    "id": "Zuxvg1lZzg8t"
   },
   "outputs": [
    {
     "name": "stdout",
     "output_type": "stream",
     "text": [
      "           order_id     quantity   product_id         price    seller_id  \\\n",
      "count   2155.000000  2155.000000  2155.000000  2.155000e+03  2155.000000   \n",
      "mean   10659.375870    23.812993    40.793039  2.560026e+06    13.605104   \n",
      "std      241.378032    19.022047    22.159019  1.366962e+06     7.629566   \n",
      "min    10248.000000     1.000000     1.000000  2.020000e+05     1.000000   \n",
      "25%    10451.000000    10.000000    22.000000  1.423000e+06     7.000000   \n",
      "50%    10657.000000    20.000000    41.000000  2.547000e+06    14.000000   \n",
      "75%    10862.500000    30.000000    60.000000  3.738000e+06    20.000000   \n",
      "max    11077.000000   130.000000    77.000000  4.999000e+06    26.000000   \n",
      "\n",
      "       freight_value  product_weight_gram  \n",
      "count    2155.000000          2156.000000  \n",
      "mean   105363.341067          2349.795918  \n",
      "std     55178.845306          4309.203158  \n",
      "min      9000.000000            50.000000  \n",
      "25%     59000.000000           300.000000  \n",
      "50%    105000.000000           800.000000  \n",
      "75%    154000.000000          2000.000000  \n",
      "max    200000.000000         30000.000000  \n",
      "Median= 2547000.0\n"
     ]
    }
   ],
   "source": [
    "import pandas as pd\n",
    "order_df = pd.read_csv(r\"D:\\Data Analyst-DQlab_FG Kominfo\\Orders_Data.csv\")\n",
    "# Quick summary  dari segi kuantitas, harga, freight value, dan weight\n",
    "print(order_df.describe())\n",
    "# Median median dari total pembelian konsumen per transaksi kolom price\n",
    "print(\"Median=\",order_df.loc[:, \"price\"].median())"
   ]
  },
  {
   "cell_type": "markdown",
   "metadata": {
    "id": "9MuNguMS1L2X"
   },
   "source": [
    "## [Create Histogram Using Matplotlib](https://academy.dqlab.id/main/livecode/163/310/1432?pr=0)"
   ]
  },
  {
   "cell_type": "code",
   "execution_count": 23,
   "metadata": {
    "id": "gSDSIx7-1V9r"
   },
   "outputs": [
    {
     "data": {
      "image/png": "[encoded data removed]",
      "text/plain": [
       "<Figure size 400x500 with 1 Axes>"
      ]
     },
     "metadata": {},
     "output_type": "display_data"
    }
   ],
   "source": [
    "import pandas as pd\n",
    "import matplotlib.pyplot as plt\n",
    "order_df = pd.read_csv(r\"D:\\Data Analyst-DQlab_FG Kominfo\\Orders_Data.csv\")\n",
    "# plot histogram kolom: price\n",
    "order_df[[\"price\"]].hist(figsize=(4, 5), bins=10, xlabelsize=8, ylabelsize=8)\n",
    "plt.show()  # Untuk menampilkan histogram plot"
   ]
  },
  {
   "cell_type": "markdown",
   "metadata": {
    "id": "SvUhePpD1W1v"
   },
   "source": [
    "## [Standar deviation and Variance](https://academy.dqlab.id/main/livecode/163/310/1434?pr=0)"
   ]
  },
  {
   "cell_type": "code",
   "execution_count": 24,
   "metadata": {
    "id": "K2ZgwPyG1g9V"
   },
   "outputs": [
    {
     "data": {
      "text/plain": [
       "18569231.85995549"
      ]
     },
     "execution_count": 24,
     "metadata": {},
     "output_type": "execute_result"
    }
   ],
   "source": [
    "import pandas as pd\n",
    "order_df = pd.read_csv(r\"D:\\Data Analyst-DQlab_FG Kominfo\\Orders_Data.csv\")\n",
    "# Standar variasi kolom product_weight_gram\n",
    "order_df.loc[:, \"product_weight_gram\"].std()\n",
    "# Varians kolom product_weight_gram\n",
    "order_df.loc[:, \"product_weight_gram\"].var()"
   ]
  },
  {
   "cell_type": "markdown",
   "metadata": {
    "id": "ztCwfegu1iCV"
   },
   "source": [
    "## [Showing the Quartile of data](https://academy.dqlab.id/main/livecode/163/310/1436?pr=0)"
   ]
  },
  {
   "cell_type": "code",
   "execution_count": 30,
   "metadata": {
    "id": "GCobydwC1rUn"
   },
   "outputs": [
    {
     "name": "stdout",
     "output_type": "stream",
     "text": [
      "product_weight_gram    1700.0\n",
      "dtype: float64\n"
     ]
    }
   ],
   "source": [
    "import pandas as pd\n",
    "order_df = pd.read_csv(r\"D:\\Data Analyst-DQlab_FG Kominfo\\Orders_Data.csv\")\n",
    "# Hitung quartile 1\n",
    "Q1 = order_df[[\"product_weight_gram\"]].quantile(0.25)\n",
    "# Hitung quartile 3\n",
    "Q3 = order_df[[\"product_weight_gram\"]].quantile(0.75)\n",
    "# Hitung inter quartile range dan cetak ke console\n",
    "IQR = Q3 - Q1\n",
    "print(IQR)"
   ]
  },
  {
   "cell_type": "markdown",
   "metadata": {
    "id": "rJzErn-s1sl3"
   },
   "source": [
    "## [Changing Column name](https://academy.dqlab.id/main/livecode/163/310/1438?pr=0)"
   ]
  },
  {
   "cell_type": "code",
   "execution_count": 31,
   "metadata": {
    "id": "zUZIvHEJ19QJ"
   },
   "outputs": [
    {
     "name": "stdout",
     "output_type": "stream",
     "text": [
      "      order_id  quantity  product_id      price  seller_id  shipping_cost  \\\n",
      "0      10248.0      12.0        11.0  1489000.0       12.0        28000.0   \n",
      "1      10248.0      10.0        42.0  1756000.0       25.0        45000.0   \n",
      "2      10248.0       5.0        72.0  1707000.0        6.0       174000.0   \n",
      "3      10249.0       9.0        14.0  3071000.0        6.0       154000.0   \n",
      "4      10249.0      40.0        51.0  3833000.0        5.0       147000.0   \n",
      "...        ...       ...         ...        ...        ...            ...   \n",
      "2152   11077.0       2.0        73.0  2530000.0       19.0        27000.0   \n",
      "2153   11077.0       4.0        75.0  3092000.0       25.0       194000.0   \n",
      "2154   11077.0       2.0        77.0   734000.0        4.0        63000.0   \n",
      "2155       NaN       NaN         NaN        NaN        NaN            NaN   \n",
      "2156       NaN       NaN         NaN        NaN        NaN            NaN   \n",
      "\n",
      "     customer_id order_status purchase_date     payment_type  \\\n",
      "0          VINET      shipped      9/5/2016  virtual account   \n",
      "1          TOMSP      shipped      9/5/2016  virtual account   \n",
      "2          HANAR     canceled      9/5/2016         e-wallet   \n",
      "3          VICTE    delivered     10/3/2016         e-wallet   \n",
      "4          SUPRD     canceled     10/3/2016         e-wallet   \n",
      "...          ...          ...           ...              ...   \n",
      "2152       WHITC    delivered     2/10/2017         e-wallet   \n",
      "2153       AROUT    delivered     2/10/2017  virtual account   \n",
      "2154       BOTTM    delivered     2/10/2017  virtual account   \n",
      "2155         NaN    delivered     2/10/2017  virtual account   \n",
      "2156         NaN    delivered     2/10/2017      credit card   \n",
      "\n",
      "     product_category_name  product_weight_gram  \n",
      "0                  fashion               1800.0  \n",
      "1               automotive               1400.0  \n",
      "2                     toys                700.0  \n",
      "3                utilities                300.0  \n",
      "4                  fashion                500.0  \n",
      "...                    ...                  ...  \n",
      "2152             utilities                100.0  \n",
      "2153                beauty                900.0  \n",
      "2154             utilities                300.0  \n",
      "2155                beauty                400.0  \n",
      "2156               fashion              25400.0  \n",
      "\n",
      "[2157 rows x 12 columns]\n"
     ]
    }
   ],
   "source": [
    "import pandas as pd\n",
    "order_df = pd.read_csv(r\"D:\\Data Analyst-DQlab_FG Kominfo\\Orders_Data.csv\")\n",
    "# Ganti nama kolom freight_value menjadi shipping_cost\n",
    "order_df.rename(columns={\"freight_value\": \"shipping_cost\"}, inplace=True)\n",
    "print(order_df)"
   ]
  },
  {
   "cell_type": "markdown",
   "metadata": {
    "id": "fL6vRbXE2A6U"
   },
   "source": [
    "## [Mean Of The Data](https://academy.dqlab.id/main/livecode/163/310/1440?pr=0)"
   ]
  },
  {
   "cell_type": "code",
   "execution_count": 27,
   "metadata": {
    "id": "3Oy7IwnS2KD2"
   },
   "outputs": [
    {
     "name": "stdout",
     "output_type": "stream",
     "text": [
      "payment_type\n",
      "credit card        2.476447e+06\n",
      "debit card         2.653154e+06\n",
      "e-wallet           2.486293e+06\n",
      "virtual account    2.632489e+06\n",
      "Name: price, dtype: float64\n"
     ]
    }
   ],
   "source": [
    "import pandas as pd\n",
    "order_df = pd.read_csv(r\"D:\\Data Analyst-DQlab_FG Kominfo\\Orders_Data.csv\")\n",
    "# Hitung rata rata dari price per payment_type\n",
    "rata_rata = order_df[\"price\"].groupby(order_df[\"payment_type\"]).mean()\n",
    "print(rata_rata)"
   ]
  },
  {
   "cell_type": "markdown",
   "metadata": {
    "id": "5SVcjRTg2NWB"
   },
   "source": [
    "## [Order The Data by the highes Price](https://academy.dqlab.id/main/livecode/163/310/1442?pr=0)"
   ]
  },
  {
   "cell_type": "code",
   "execution_count": 32,
   "metadata": {
    "id": "KLeZyaTo2W35"
   },
   "outputs": [
    {
     "name": "stdout",
     "output_type": "stream",
     "text": [
      "      order_id  quantity  product_id      price  seller_id  freight_value  \\\n",
      "2006   11024.0      50.0        71.0  4999000.0       21.0        94000.0   \n",
      "649    10493.0      10.0        66.0  4993000.0        9.0       100000.0   \n",
      "1714   10907.0      14.0        75.0  4983000.0        5.0       178000.0   \n",
      "548    10454.0      10.0        46.0  4982000.0       20.0        99000.0   \n",
      "2092   11062.0      12.0        70.0  4982000.0        7.0       101000.0   \n",
      "...        ...       ...         ...        ...        ...            ...   \n",
      "936    10603.0      48.0        22.0   206000.0        7.0       152000.0   \n",
      "2025   11031.0      16.0        71.0   204000.0       14.0        14000.0   \n",
      "2122   11073.0      20.0        24.0   202000.0       24.0        99000.0   \n",
      "2155       NaN       NaN         NaN        NaN        NaN            NaN   \n",
      "2156       NaN       NaN         NaN        NaN        NaN            NaN   \n",
      "\n",
      "     customer_id order_status purchase_date     payment_type  \\\n",
      "2006       OLDWO    delivered      2/9/2017  virtual account   \n",
      "649        HUNGO    delivered     1/20/2017         e-wallet   \n",
      "1714       SUPRD    delivered      2/6/2017         e-wallet   \n",
      "548        HILAA    delivered     1/17/2017  virtual account   \n",
      "2092       OLDWO    delivered     2/10/2017         e-wallet   \n",
      "...          ...          ...           ...              ...   \n",
      "936        PERIC    delivered     1/26/2017      credit card   \n",
      "2025       HILAA    delivered      2/9/2017      credit card   \n",
      "2122       FRANS    delivered     2/10/2017       debit card   \n",
      "2155         NaN    delivered     2/10/2017  virtual account   \n",
      "2156         NaN    delivered     2/10/2017      credit card   \n",
      "\n",
      "     product_category_name  product_weight_gram  \n",
      "2006             utilities              14600.0  \n",
      "649                 beauty                200.0  \n",
      "1714                gadget                100.0  \n",
      "548                 sports               1800.0  \n",
      "2092             utilities               1900.0  \n",
      "...                    ...                  ...  \n",
      "936              utilities                341.0  \n",
      "2025               fashion              17550.0  \n",
      "2122               fashion              17200.0  \n",
      "2155                beauty                400.0  \n",
      "2156               fashion              25400.0  \n",
      "\n",
      "[2157 rows x 12 columns]\n"
     ]
    }
   ],
   "source": [
    "import pandas as pd\n",
    "order_df = pd.read_csv(r\"D:\\Data Analyst-DQlab_FG Kominfo\\Orders_Data.csv\")\n",
    "# Hitung harga maksimum pembelian customer\n",
    "sort_harga = order_df.sort_values(by=\"price\", ascending=False)\n",
    "print(sort_harga)"
   ]
  },
  {
   "cell_type": "markdown",
   "metadata": {
    "id": "rXLxjJse2dKr"
   },
   "source": [
    "## [Use Case](https://academy.dqlab.id/main/livecode/163/311/1444?pr=0)"
   ]
  },
  {
   "cell_type": "code",
   "execution_count": 29,
   "metadata": {
    "id": "lkmf2Ph_2ixR"
   },
   "outputs": [
    {
     "name": "stdout",
     "output_type": "stream",
     "text": [
      "payment_type\n",
      "credit card        2428000.0\n",
      "debit card         2695000.0\n",
      "e-wallet           2451000.0\n",
      "virtual account    2695000.0\n",
      "Name: price, dtype: float64\n",
      "      order_id  quantity  product_id      price  seller_id  shipping_cost  \\\n",
      "250    10341.0       9.0        59.0  1440000.0        1.0       200000.0   \n",
      "1799   10941.0      80.0        68.0  3052000.0       21.0       200000.0   \n",
      "1869   10972.0       6.0        17.0  2298000.0       13.0       199000.0   \n",
      "1312   10747.0       8.0        31.0  1756000.0       19.0       199000.0   \n",
      "521    10444.0      30.0        41.0  2205000.0       22.0       199000.0   \n",
      "...        ...       ...         ...        ...        ...            ...   \n",
      "941    10605.0      20.0        59.0  3878000.0       26.0         9000.0   \n",
      "1973   11012.0      50.0        19.0  2795000.0       17.0         9000.0   \n",
      "410    10401.0      20.0        65.0  1555000.0        1.0         9000.0   \n",
      "2155       NaN       NaN         NaN        NaN        NaN            NaN   \n",
      "2156       NaN       NaN         NaN        NaN        NaN            NaN   \n",
      "\n",
      "     customer_id order_status purchase_date     payment_type  \\\n",
      "250        HILAA    delivered     10/8/2016       debit card   \n",
      "1799       SANTG    delivered      2/7/2017  virtual account   \n",
      "1869       KOENE    delivered      2/7/2017       debit card   \n",
      "1312       BONAP    delivered     1/31/2017       debit card   \n",
      "521        VAFFE    delivered     1/16/2017         e-wallet   \n",
      "...          ...          ...           ...              ...   \n",
      "941        SEVES    delivered     1/26/2017      credit card   \n",
      "1973       FOLKO    delivered      2/8/2017       debit card   \n",
      "410        QUICK    delivered      1/7/2017      credit card   \n",
      "2155         NaN    delivered     2/10/2017  virtual account   \n",
      "2156         NaN    delivered     2/10/2017      credit card   \n",
      "\n",
      "     product_category_name  product_weight_gram  \n",
      "250            electronics                900.0  \n",
      "1799             utilities               1300.0  \n",
      "1869           electronics                500.0  \n",
      "1312                gadget               1700.0  \n",
      "521                   toys                650.0  \n",
      "...                    ...                  ...  \n",
      "941                 gadget               1032.0  \n",
      "1973             utilities                500.0  \n",
      "410              utilities                467.0  \n",
      "2155                beauty                400.0  \n",
      "2156               fashion              25400.0  \n",
      "\n",
      "[2157 rows x 12 columns]\n",
      "product_category_name\n",
      "sports         1806.657371\n",
      "toys           2214.695205\n",
      "automotive     2232.330935\n",
      "gadget         2319.805147\n",
      "beauty         2457.583658\n",
      "electronics    2488.902778\n",
      "utilities      2570.294118\n",
      "fashion        2710.975610\n",
      "Name: product_weight_gram, dtype: float64\n",
      "product_category_name\n",
      "toys           3710.334923\n",
      "automotive     3719.123372\n",
      "sports         4028.136894\n",
      "gadget         4165.711910\n",
      "beauty         4466.379418\n",
      "fashion        4660.811812\n",
      "utilities      4750.210620\n",
      "electronics    4845.594510\n",
      "Name: product_weight_gram, dtype: float64\n"
     ]
    },
    {
     "data": {
      "image/png": "[encoded data removed]",
      "text/plain": [
       "<Figure size 400x500 with 1 Axes>"
      ]
     },
     "metadata": {},
     "output_type": "display_data"
    }
   ],
   "source": [
    "import pandas as pd\n",
    "import matplotlib.pyplot as plt\n",
    "order_df = pd.read_csv(r\"D:\\Data Analyst-DQlab_FG Kominfo\\Orders_Data.csv\")\n",
    "\n",
    "# Median price yang dibayar customer dari masing-masing metode pembayaran. \n",
    "median_price = order_df[\"price\"].groupby(order_df[\"payment_type\"]).median()\n",
    "print(median_price)\n",
    "\n",
    "# Ubah freight_value menjadi shipping_cost dan cari shipping_cost \n",
    "# termahal dari data penjualan tersebut menggunakan sort.\n",
    "order_df.rename(columns={\"freight_value\": \"shipping_cost\"}, inplace=True)\n",
    "sort_value = order_df.sort_values(by=\"shipping_cost\", ascending=0)\n",
    "print(sort_value)\n",
    "\n",
    "# Untuk product_category_name, berapa  rata-rata weight produk tersebut \n",
    "# dan standar deviasi mana yang terkecil dari weight tersebut, \n",
    "mean_value = order_df[\"product_weight_gram\"].groupby(order_df[\"product_category_name\"]).mean()\n",
    "print(mean_value.sort_values())\n",
    "std_value = order_df[\"product_weight_gram\"].groupby(order_df[\"product_category_name\"]).std()\n",
    "print(std_value.sort_values())\n",
    "\n",
    "# Buat histogram quantity penjualan dari dataset tersebutuntuk melihat persebaran quantity \n",
    "# penjualan tersebut dengan bins = 5 dan figsize= (4,5)\n",
    "order_df[[\"quantity\"]].hist(figsize=(4, 5), bins=5)\n",
    "plt.show()"
   ]
  }
 ],
 "metadata": {
  "colab": {
   "name": "Exploratory Data Analysis with PYTHON for Beginner.ipynb",
   "private_outputs": true,
   "provenance": []
  },
  "kernelspec": {
   "display_name": "Python 3 (ipykernel)",
   "language": "python",
   "name": "python3"
  },
  "language_info": {
   "codemirror_mode": {
    "name": "ipython",
    "version": 3
   },
   "file_extension": ".py",
   "mimetype": "text/x-python",
   "name": "python",
   "nbconvert_exporter": "python",
   "pygments_lexer": "ipython3",
   "version": "3.11.1"
  }
 },
 "nbformat": 4,
 "nbformat_minor": 1
}
